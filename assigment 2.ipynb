{
 "cells": [
  {
   "cell_type": "markdown",
   "id": "167500ec-5517-4513-8e0c-49bd153061cf",
   "metadata": {},
   "source": [
    "# 2 — City-wise Analysis"
   ]
  },
  {
   "cell_type": "code",
   "execution_count": 2,
   "id": "ac2029c3-e09a-4fd5-8756-05a3cd3408dc",
   "metadata": {},
   "outputs": [
    {
     "data": {
      "text/html": [
       "<div>\n",
       "<style scoped>\n",
       "    .dataframe tbody tr th:only-of-type {\n",
       "        vertical-align: middle;\n",
       "    }\n",
       "\n",
       "    .dataframe tbody tr th {\n",
       "        vertical-align: top;\n",
       "    }\n",
       "\n",
       "    .dataframe thead th {\n",
       "        text-align: right;\n",
       "    }\n",
       "</style>\n",
       "<table border=\"1\" class=\"dataframe\">\n",
       "  <thead>\n",
       "    <tr style=\"text-align: right;\">\n",
       "      <th></th>\n",
       "      <th>store_id</th>\n",
       "      <th>city</th>\n",
       "      <th>Jan</th>\n",
       "      <th>Feb</th>\n",
       "      <th>Mar</th>\n",
       "      <th>Apr</th>\n",
       "      <th>May</th>\n",
       "      <th>Jun</th>\n",
       "      <th>July</th>\n",
       "      <th>Aug</th>\n",
       "      <th>Sep</th>\n",
       "      <th>Oct</th>\n",
       "      <th>Nov</th>\n",
       "      <th>Dec</th>\n",
       "    </tr>\n",
       "  </thead>\n",
       "  <tbody>\n",
       "    <tr>\n",
       "      <th>0</th>\n",
       "      <td>S_1</td>\n",
       "      <td>Texas</td>\n",
       "      <td>8</td>\n",
       "      <td>20</td>\n",
       "      <td>13</td>\n",
       "      <td>21</td>\n",
       "      <td>17</td>\n",
       "      <td>20</td>\n",
       "      <td>24</td>\n",
       "      <td>17</td>\n",
       "      <td>16</td>\n",
       "      <td>9</td>\n",
       "      <td>7</td>\n",
       "      <td>6</td>\n",
       "    </tr>\n",
       "    <tr>\n",
       "      <th>1</th>\n",
       "      <td>S_2</td>\n",
       "      <td>California</td>\n",
       "      <td>12</td>\n",
       "      <td>19</td>\n",
       "      <td>15</td>\n",
       "      <td>15</td>\n",
       "      <td>11</td>\n",
       "      <td>19</td>\n",
       "      <td>7</td>\n",
       "      <td>15</td>\n",
       "      <td>10</td>\n",
       "      <td>11</td>\n",
       "      <td>21</td>\n",
       "      <td>19</td>\n",
       "    </tr>\n",
       "    <tr>\n",
       "      <th>2</th>\n",
       "      <td>S_3</td>\n",
       "      <td>California</td>\n",
       "      <td>16</td>\n",
       "      <td>16</td>\n",
       "      <td>14</td>\n",
       "      <td>19</td>\n",
       "      <td>23</td>\n",
       "      <td>6</td>\n",
       "      <td>13</td>\n",
       "      <td>13</td>\n",
       "      <td>15</td>\n",
       "      <td>14</td>\n",
       "      <td>24</td>\n",
       "      <td>8</td>\n",
       "    </tr>\n",
       "    <tr>\n",
       "      <th>3</th>\n",
       "      <td>S_4</td>\n",
       "      <td>Texas</td>\n",
       "      <td>8</td>\n",
       "      <td>18</td>\n",
       "      <td>13</td>\n",
       "      <td>10</td>\n",
       "      <td>14</td>\n",
       "      <td>14</td>\n",
       "      <td>6</td>\n",
       "      <td>8</td>\n",
       "      <td>8</td>\n",
       "      <td>18</td>\n",
       "      <td>7</td>\n",
       "      <td>11</td>\n",
       "    </tr>\n",
       "    <tr>\n",
       "      <th>4</th>\n",
       "      <td>S_5</td>\n",
       "      <td>Texas</td>\n",
       "      <td>19</td>\n",
       "      <td>5</td>\n",
       "      <td>24</td>\n",
       "      <td>9</td>\n",
       "      <td>5</td>\n",
       "      <td>24</td>\n",
       "      <td>10</td>\n",
       "      <td>5</td>\n",
       "      <td>24</td>\n",
       "      <td>15</td>\n",
       "      <td>6</td>\n",
       "      <td>13</td>\n",
       "    </tr>\n",
       "  </tbody>\n",
       "</table>\n",
       "</div>"
      ],
      "text/plain": [
       "  store_id        city  Jan  Feb  Mar  Apr  May  Jun  July  Aug  Sep  Oct  \\\n",
       "0      S_1       Texas    8   20   13   21   17   20    24   17   16    9   \n",
       "1      S_2  California   12   19   15   15   11   19     7   15   10   11   \n",
       "2      S_3  California   16   16   14   19   23    6    13   13   15   14   \n",
       "3      S_4       Texas    8   18   13   10   14   14     6    8    8   18   \n",
       "4      S_5       Texas   19    5   24    9    5   24    10    5   24   15   \n",
       "\n",
       "   Nov  Dec  \n",
       "0    7    6  \n",
       "1   21   19  \n",
       "2   24    8  \n",
       "3    7   11  \n",
       "4    6   13  "
      ]
     },
     "execution_count": 2,
     "metadata": {},
     "output_type": "execute_result"
    }
   ],
   "source": [
    "import pandas as pd\n",
    "store_data = pd.read_csv(\"Store.csv\")\n",
    "store_data.head()"
   ]
  },
  {
   "cell_type": "code",
   "execution_count": 1,
   "id": "ff76f020-674e-4090-ae52-133dc4021d14",
   "metadata": {},
   "outputs": [
    {
     "ename": "NameError",
     "evalue": "name 'store_data' is not defined",
     "output_type": "error",
     "traceback": [
      "\u001b[1;31m---------------------------------------------------------------------------\u001b[0m",
      "\u001b[1;31mNameError\u001b[0m                                 Traceback (most recent call last)",
      "Cell \u001b[1;32mIn[1], line 1\u001b[0m\n\u001b[1;32m----> 1\u001b[0m \u001b[38;5;28mprint\u001b[39m(store_data\u001b[38;5;241m.\u001b[39mhead())\n",
      "\u001b[1;31mNameError\u001b[0m: name 'store_data' is not defined"
     ]
    }
   ],
   "source": [
    "print(store_data.head())\n"
   ]
  },
  {
   "cell_type": "code",
   "execution_count": 3,
   "id": "31b06752-05bf-4965-845e-1accc43c4b1e",
   "metadata": {},
   "outputs": [
    {
     "name": "stdout",
     "output_type": "stream",
     "text": [
      "   store_id        city  Jan  Feb  Mar  Apr  May  Jun  July  Aug  Sep  Oct  \\\n",
      "95     S_96       Texas    7   10   20   20   10   15    15   21   15    7   \n",
      "96     S_97  California   13    6    7   15   22   10    21   23   10    6   \n",
      "97     S_98       Texas   16    9    6   14   20   13    11   10    8   22   \n",
      "98     S_99     Arizona   18   16    9    5   12   22    11   13   21   17   \n",
      "99    S_100  California    5   23   17   24   15   21    19   10   12   20   \n",
      "\n",
      "    Nov  Dec  \n",
      "95   23   22  \n",
      "96   12    9  \n",
      "97   17   22  \n",
      "98   19   10  \n",
      "99    5    9  \n"
     ]
    }
   ],
   "source": [
    "print(store_data.tail())"
   ]
  },
  {
   "cell_type": "code",
   "execution_count": 4,
   "id": "aceabf1e-3be1-488d-959e-866431fbe852",
   "metadata": {},
   "outputs": [
    {
     "name": "stdout",
     "output_type": "stream",
     "text": [
      "<class 'pandas.core.frame.DataFrame'>\n",
      "RangeIndex: 100 entries, 0 to 99\n",
      "Data columns (total 14 columns):\n",
      " #   Column    Non-Null Count  Dtype \n",
      "---  ------    --------------  ----- \n",
      " 0   store_id  100 non-null    object\n",
      " 1   city      100 non-null    object\n",
      " 2   Jan       100 non-null    int64 \n",
      " 3   Feb       100 non-null    int64 \n",
      " 4   Mar       100 non-null    int64 \n",
      " 5   Apr       100 non-null    int64 \n",
      " 6   May       100 non-null    int64 \n",
      " 7   Jun       100 non-null    int64 \n",
      " 8   July      100 non-null    int64 \n",
      " 9   Aug       100 non-null    int64 \n",
      " 10  Sep       100 non-null    int64 \n",
      " 11  Oct       100 non-null    int64 \n",
      " 12  Nov       100 non-null    int64 \n",
      " 13  Dec       100 non-null    int64 \n",
      "dtypes: int64(12), object(2)\n",
      "memory usage: 11.1+ KB\n",
      "None\n"
     ]
    }
   ],
   "source": [
    "print(store_data.info())"
   ]
  },
  {
   "cell_type": "code",
   "execution_count": 5,
   "id": "93bf4a7f-3078-4fb2-b641-2c8577c3abaf",
   "metadata": {},
   "outputs": [
    {
     "name": "stdout",
     "output_type": "stream",
     "text": [
      "              Jan         Feb         Mar         Apr         May         Jun  \\\n",
      "count  100.000000  100.000000  100.000000  100.000000  100.000000  100.000000   \n",
      "mean    14.460000   15.090000   14.560000   14.570000   13.560000   13.800000   \n",
      "std      5.712683    6.055459    5.782803    4.965039    5.883241    5.962848   \n",
      "min      5.000000    5.000000    5.000000    5.000000    5.000000    5.000000   \n",
      "25%     10.000000    9.000000    9.750000   11.000000    8.000000    9.000000   \n",
      "50%     15.000000   16.000000   15.000000   14.500000   13.000000   13.500000   \n",
      "75%     19.000000   21.000000   19.250000   19.000000   19.000000   19.000000   \n",
      "max     24.000000   24.000000   24.000000   24.000000   24.000000   24.000000   \n",
      "\n",
      "             July         Aug         Sep        Oct         Nov         Dec  \n",
      "count  100.000000  100.000000  100.000000  100.00000  100.000000  100.000000  \n",
      "mean    14.380000   15.810000   14.910000   14.10000   15.310000   13.570000  \n",
      "std      5.566458    6.152432    5.284043    5.87496    6.461533    5.852143  \n",
      "min      5.000000    5.000000    5.000000    5.00000    5.000000    5.000000  \n",
      "25%     10.000000   11.000000   11.000000    9.00000   10.000000    8.000000  \n",
      "50%     15.000000   17.000000   14.500000   14.00000   16.000000   13.000000  \n",
      "75%     19.000000   21.000000   19.000000   19.00000   21.250000   19.000000  \n",
      "max     24.000000   24.000000   24.000000   24.00000   24.000000   24.000000  \n"
     ]
    }
   ],
   "source": [
    "print(store_data.describe())"
   ]
  },
  {
   "cell_type": "code",
   "execution_count": 6,
   "id": "5649b687-f0e2-4cf2-b938-a22adf2002d9",
   "metadata": {},
   "outputs": [
    {
     "name": "stdout",
     "output_type": "stream",
     "text": [
      "Jan    1446\n",
      "Feb    1509\n",
      "Mar    1456\n",
      "Apr    1457\n",
      "dtype: int64\n",
      "Jan    14.46\n",
      "Feb    15.09\n",
      "Mar    14.56\n",
      "Apr    14.57\n",
      "dtype: float64\n"
     ]
    }
   ],
   "source": [
    "months = ['Jan', 'Feb', 'Mar', 'Apr']\n",
    "total = store_data[months].sum()\n",
    "average= store_data[months].mean()\n",
    "print(total)\n",
    "print(average)"
   ]
  },
  {
   "cell_type": "code",
   "execution_count": 7,
   "id": "ed8c0a78-cba2-4a1c-a206-c592fde92475",
   "metadata": {},
   "outputs": [
    {
     "name": "stdout",
     "output_type": "stream",
     "text": [
      "Jan     1446\n",
      "Feb     1509\n",
      "Mar     1456\n",
      "Apr     1457\n",
      "Jun     1380\n",
      "July    1438\n",
      "Aug     1581\n",
      "Sep     1491\n",
      "Oct     1410\n",
      "Nov     1531\n",
      "Dec     1357\n",
      "dtype: int64\n"
     ]
    }
   ],
   "source": [
    "totalsales = store_data[['Jan','Feb','Mar','Apr','Jun','July','Aug','Sep','Oct','Nov','Dec']].sum()\n",
    "print(totalsales)"
   ]
  },
  {
   "cell_type": "markdown",
   "id": "58c998ba-4b14-49ba-aa0b-c986e3fc0cdc",
   "metadata": {},
   "source": [
    "# 2. City-wise Analysis "
   ]
  },
  {
   "cell_type": "code",
   "execution_count": 8,
   "id": "e12c0192-f7d7-4ef9-8a1d-694d7fac0854",
   "metadata": {},
   "outputs": [
    {
     "name": "stdout",
     "output_type": "stream",
     "text": [
      "                  Jan        Feb        Mar        Apr        May        Jun  \\\n",
      "city                                                                           \n",
      "Arizona     15.500000  15.272727  14.545455  14.954545  14.090909  15.090909   \n",
      "California  14.744186  15.534884  14.627907  13.976744  13.255814  13.697674   \n",
      "Texas       13.457143  14.428571  14.485714  15.057143  13.600000  13.114286   \n",
      "\n",
      "                 July        Aug        Sep        Oct        Nov        Dec  \n",
      "city                                                                          \n",
      "Arizona     14.636364  15.500000  15.318182  14.954545  16.409091  13.318182  \n",
      "California  14.813953  16.232558  14.883721  14.279070  15.279070  13.604651  \n",
      "Texas       13.685714  15.485714  14.685714  13.342857  14.657143  13.685714  \n"
     ]
    }
   ],
   "source": [
    "months = ['Jan', 'Feb', 'Mar', 'Apr', 'May', 'Jun', 'July', 'Aug', 'Sep', 'Oct', 'Nov', 'Dec']\n",
    "average_monthly = store_data.groupby('city')[months].mean()\n",
    "print(average_monthly)"
   ]
  },
  {
   "cell_type": "code",
   "execution_count": 9,
   "id": "9eb3b4c7-5a54-487e-bd3b-9dcdc387b363",
   "metadata": {},
   "outputs": [
    {
     "name": "stdout",
     "output_type": "stream",
     "text": [
      "Arizona\n",
      "179.5909090909091\n"
     ]
    }
   ],
   "source": [
    "yearly_sales = store_data.loc[:, 'Jan':'Dec'].sum(axis=1)\n",
    "average_yearly_sales_per_city = yearly_sales.groupby(store_data['city']).mean()\n",
    "city_with_highest_average_sales = average_yearly_sales_per_city.idxmax()\n",
    "highest_average_sales_value = average_yearly_sales_per_city.max()\n",
    "print(city_with_highest_average_sales)\n",
    "print(highest_average_sales_value)"
   ]
  },
  {
   "cell_type": "code",
   "execution_count": 10,
   "id": "3511db2a-dd8f-4ffe-8357-d47c1ea3672a",
   "metadata": {},
   "outputs": [
    {
     "name": "stdout",
     "output_type": "stream",
     "text": [
      "  store_id        city  Jan  Feb  Mar  Apr  Total_Sales\n",
      "0      S_1       Texas    8   20   13   21           62\n",
      "1      S_2  California   12   19   15   15           61\n",
      "2      S_3  California   16   16   14   19           65\n",
      "3      S_4       Texas    8   18   13   10           49\n",
      "4      S_5       Texas   19    5   24    9           57\n"
     ]
    }
   ],
   "source": [
    "store_data['Total_Sales'] = store_data['Jan'] + store_data['Feb'] + store_data['Mar'] + store_data['Apr']\n",
    "print(store_data[['store_id', 'city', 'Jan', 'Feb', 'Mar', 'Apr', 'Total_Sales']].head())"
   ]
  },
  {
   "cell_type": "code",
   "execution_count": 11,
   "id": "b5280e27-281f-46bc-9b57-54016f2e0669",
   "metadata": {},
   "outputs": [
    {
     "name": "stdout",
     "output_type": "stream",
     "text": [
      "city\n",
      "California    2532\n",
      "Texas         2010\n",
      "Arizona       1326\n",
      "Name: Total_Sales, dtype: int64\n"
     ]
    }
   ],
   "source": [
    "store_data['Total_Sales'] = store_data['Jan'] + store_data['Feb'] + store_data['Mar'] + store_data['Apr']\n",
    "top_3_cities = (store_data.groupby('city')['Total_Sales'].sum().sort_values(ascending=False).head(3))\n",
    "print(top_3_cities)"
   ]
  },
  {
   "cell_type": "markdown",
   "id": "1643c984-b984-49e2-a8d6-9cf03b731405",
   "metadata": {},
   "source": [
    "# 3.Store-level Insights"
   ]
  },
  {
   "cell_type": "code",
   "execution_count": 12,
   "id": "38ffab04-c528-4200-824d-e0afa824923d",
   "metadata": {},
   "outputs": [
    {
     "name": "stdout",
     "output_type": "stream",
     "text": [
      "   store_id        city  Total_Sales\n",
      "72     S_73  California          206\n",
      "77     S_78     Arizona          198\n",
      "37     S_38  California          196\n",
      "85     S_86  California          193\n",
      "61     S_62  California          192\n"
     ]
    }
   ],
   "source": [
    "store_data['Total_Sales'] = store_data[['Jan', 'Feb', 'Mar', 'Apr', 'Jun', 'July', 'Aug', 'Sep', 'Oct', 'Nov', 'Dec']].sum(axis=1)\n",
    "top_5 = store_data.sort_values('Total_Sales', ascending=False).head(5)\n",
    "print(top_5[['store_id', 'city', 'Total_Sales']])"
   ]
  },
  {
   "cell_type": "code",
   "execution_count": 13,
   "id": "d9288787-96c0-46a1-b61d-0ab281895585",
   "metadata": {},
   "outputs": [
    {
     "name": "stdout",
     "output_type": "stream",
     "text": [
      "   store_id        city  Total_Sales\n",
      "90     S_91       Texas          114\n",
      "47     S_48     Arizona          117\n",
      "3       S_4       Texas          121\n",
      "66     S_67       Texas          128\n",
      "88     S_89  California          128\n"
     ]
    }
   ],
   "source": [
    "store_data['Total_Sales'] = store_data[['Jan', 'Feb', 'Mar', 'Apr', 'Jun', 'July', 'Aug', 'Sep', 'Oct', 'Nov', 'Dec']].sum(axis=1)\n",
    "bottom_5 = store_data.sort_values('Total_Sales', ascending=True).head(5)\n",
    "print(bottom_5[['store_id', 'city', 'Total_Sales']])\n"
   ]
  },
  {
   "cell_type": "code",
   "execution_count": 14,
   "id": "18a6fd46-a002-4689-9228-dad7ab08b40e",
   "metadata": {},
   "outputs": [
    {
     "name": "stdout",
     "output_type": "stream",
     "text": [
      "store_id      S_5\n",
      "city        Texas\n",
      "Mar            24\n",
      "Name: 4, dtype: object\n"
     ]
    }
   ],
   "source": [
    "max_sales = store_data.loc[store_data['Mar'].idxmax()]\n",
    "result = max_sales[['store_id', 'city', 'Mar']]\n",
    "print(result)"
   ]
  },
  {
   "cell_type": "code",
   "execution_count": 15,
   "id": "71d3bcf2-93e5-4ec7-9290-37ebb18d5a53",
   "metadata": {},
   "outputs": [
    {
     "name": "stdout",
     "output_type": "stream",
     "text": [
      "store_id       S_32\n",
      "city        Arizona\n",
      "Apr               5\n",
      "Name: 31, dtype: object\n"
     ]
    }
   ],
   "source": [
    "min_sales = store_data.loc[store_data['Apr'].idxmin()]\n",
    "result = min_sales[['store_id', 'city', 'Apr']]\n",
    "print(result)"
   ]
  },
  {
   "cell_type": "code",
   "execution_count": 16,
   "id": "97da5a1e-eeea-4959-85dd-350a3e58f878",
   "metadata": {},
   "outputs": [
    {
     "name": "stdout",
     "output_type": "stream",
     "text": [
      "city\n",
      "Arizona       13\n",
      "California    13\n",
      "Texas          9\n",
      "dtype: int64\n"
     ]
    }
   ],
   "source": [
    "months = ['Jan', 'Feb', 'Mar', 'Apr', 'May', 'Jun', 'July', 'Aug', 'Sep', 'Oct', 'Nov', 'Dec']\n",
    "store_data['Avg_Monthly_Sales'] = store_data[months].mean(axis=1)\n",
    "filtered_stores = store_data[store_data['Avg_Monthly_Sales'] > 15]\n",
    "city_counts = filtered_stores.groupby('city').size()\n",
    "print(city_counts)"
   ]
  },
  {
   "cell_type": "code",
   "execution_count": 17,
   "id": "7ade679f-dc24-4ceb-85cf-6dd80afb5a47",
   "metadata": {},
   "outputs": [
    {
     "name": "stdout",
     "output_type": "stream",
     "text": [
      "   store_id        city  Jan  Feb  Mar  Apr  May  Jun  July  Aug  Sep  Oct  \\\n",
      "1       S_2  California   12   19   15   15   11   19     7   15   10   11   \n",
      "2       S_3  California   16   16   14   19   23    6    13   13   15   14   \n",
      "5       S_6  California   14   21   18   20   21    5    18   24    7   12   \n",
      "7       S_8  California   15    8    5   15   12   21    17   19   13    6   \n",
      "9      S_10  California   14   23   20   11   12   13    19    6    5   22   \n",
      "11     S_12  California    6   18   21    8    5    8    11    9   21   17   \n",
      "15     S_16  California   18    9    8    9   21    7    19   18   21    7   \n",
      "16     S_17  California   13    8    7   22   21   24    18    5   24   18   \n",
      "18     S_19  California    7    6   17    8   21   11    20    9   11   22   \n",
      "19     S_20  California   11   21   20    6    5   24    14   23   19   10   \n",
      "23     S_24  California    5   17   19   19   19   14    18   23   23    5   \n",
      "25     S_26  California   24   11   16   11   13   14    10   15    7   15   \n",
      "26     S_27  California   24   19   13   24    8   12     6   21   10   10   \n",
      "27     S_28  California   10   15   24   21    9   22    10   19   13   18   \n",
      "28     S_29  California   15    8   10   16   12   10    21   21    7   13   \n",
      "30     S_31  California   14   19    6   15   24   13    14   23   13   24   \n",
      "34     S_35  California   10    7   24   15   12   24    12   17   10   14   \n",
      "36     S_37  California   24   16    9    6    6   22     6    8   24    6   \n",
      "37     S_38  California   21   10   13   11   11   14    24   24   24   21   \n",
      "44     S_45  California   19   17    9   17    8    8    16    5   21   20   \n",
      "48     S_49  California   22   22   10   11   17   13    18   11   12   20   \n",
      "58     S_59  California   15   13   20    8    7   12    15    8   24    9   \n",
      "59     S_60  California    6   21   22    8    6   17    21   12   14   15   \n",
      "61     S_62  California   16   21    6   22   22    9    21   21   22   17   \n",
      "63     S_64  California   12   18    9   19    5    7    22   23   19    6   \n",
      "67     S_68  California   23   15   16   14    8   12    10   21   10    7   \n",
      "72     S_73  California   20   24   24   18    7   22    12   21   20   18   \n",
      "73     S_74  California   20   17   14    5   22    9    18   24   11   10   \n",
      "76     S_77  California    9   18   10   15   14   14    16    5   24   11   \n",
      "80     S_81  California   22    9   20   12    6   20     8   16   15   14   \n",
      "82     S_83  California   16    5    6   12   20   21    17    6   12    9   \n",
      "83     S_84  California   13   12   12    5    7   16    12   21   20   19   \n",
      "85     S_86  California   15   23   24   18   21   17    23   13   12   11   \n",
      "89     S_90  California    8   23   21   14   15    6     5   14   23    8   \n",
      "91     S_92  California   14   16   17   13   13   10    17   23    7   23   \n",
      "92     S_93  California   20   13   15   12   15   19    21   22   10   21   \n",
      "93     S_94  California   19   18   14   21    5    7     8   21   11   21   \n",
      "94     S_95  California   10   22   13   20    5    5     9   15   23   23   \n",
      "96     S_97  California   13    6    7   15   22   10    21   23   10    6   \n",
      "99    S_100  California    5   23   17   24   15   21    19   10   12   20   \n",
      "\n",
      "    Nov  Dec  \n",
      "1    21   19  \n",
      "2    24    8  \n",
      "5    11    5  \n",
      "7    24   15  \n",
      "9    17   16  \n",
      "11   18   22  \n",
      "15    7   23  \n",
      "16   12   17  \n",
      "18   21    8  \n",
      "19   21   22  \n",
      "23   16    5  \n",
      "25    5    8  \n",
      "26   12   20  \n",
      "27   24    6  \n",
      "28    8    5  \n",
      "30   10    9  \n",
      "34    5   18  \n",
      "36    5   11  \n",
      "37   16   18  \n",
      "44   12   24  \n",
      "48   12    9  \n",
      "58   21    6  \n",
      "59   10   15  \n",
      "61   16   21  \n",
      "63   15   17  \n",
      "67   24   17  \n",
      "72   21    6  \n",
      "73   20   19  \n",
      "76   18   17  \n",
      "80   24   10  \n",
      "82   22   15  \n",
      "83   22   13  \n",
      "85   24   13  \n",
      "89    5   21  \n",
      "91   10   22  \n",
      "92   23   13  \n",
      "93   15    7  \n",
      "94   24    7  \n",
      "96   12    9  \n",
      "99    5    9  \n"
     ]
    }
   ],
   "source": [
    "months = ['Jan', 'Feb', 'Mar', 'Apr', 'May', 'Jun', 'July', 'Aug', 'Sep', 'Oct', 'Nov', 'Dec']\n",
    "california_sales = store_data[(store_data['city'] == 'California') & (store_data[months].gt(20).any(axis=1))]\n",
    "print(california_sales[['store_id', 'city'] + months])"
   ]
  },
  {
   "cell_type": "code",
   "execution_count": null,
   "id": "d7d5e7aa-c381-4d30-9628-48be86a9588c",
   "metadata": {},
   "outputs": [],
   "source": []
  }
 ],
 "metadata": {
  "kernelspec": {
   "display_name": "Python 3 (ipykernel)",
   "language": "python",
   "name": "python3"
  },
  "language_info": {
   "codemirror_mode": {
    "name": "ipython",
    "version": 3
   },
   "file_extension": ".py",
   "mimetype": "text/x-python",
   "name": "python",
   "nbconvert_exporter": "python",
   "pygments_lexer": "ipython3",
   "version": "3.13.5"
  }
 },
 "nbformat": 4,
 "nbformat_minor": 5
}
