{
 "cells": [
  {
   "cell_type": "code",
   "execution_count": 3,
   "id": "1c52883f-ab2a-473d-9def-119ce14d7a86",
   "metadata": {},
   "outputs": [],
   "source": [
    "import pandas as pd\n",
    "df = pd.read_csv(\"C:\\Users\\prabh\\Downloads\\olympic_data.csv\", sep=\"\\t\", header=None)\n",
    "\n",
    "# Add correct Olympic headers\n",
    "df.columns = [\n",
    "    \"Athlete\",\n",
    "    \"Age\",\n",
    "    \"Country\",\n",
    "    \"Year\",\n",
    "    \"Date\",\n",
    "    \"Sport\",\n",
    "    \"Gold\",\n",
    "    \"Silver\",\n",
    "    \"Bronze\",\n",
    "    \"Total\"\n",
    "]"
   ]
  },
  {
   "cell_type": "code",
   "execution_count": 5,
   "id": "604d156a-6e3c-45aa-9244-c181bed1448d",
   "metadata": {},
   "outputs": [
    {
     "data": {
      "text/html": [
       "<div>\n",
       "<style scoped>\n",
       "    .dataframe tbody tr th:only-of-type {\n",
       "        vertical-align: middle;\n",
       "    }\n",
       "\n",
       "    .dataframe tbody tr th {\n",
       "        vertical-align: top;\n",
       "    }\n",
       "\n",
       "    .dataframe thead th {\n",
       "        text-align: right;\n",
       "    }\n",
       "</style>\n",
       "<table border=\"1\" class=\"dataframe\">\n",
       "  <thead>\n",
       "    <tr style=\"text-align: right;\">\n",
       "      <th></th>\n",
       "      <th>Athlete</th>\n",
       "      <th>Age</th>\n",
       "      <th>Country</th>\n",
       "      <th>Year</th>\n",
       "      <th>Date</th>\n",
       "      <th>Sport</th>\n",
       "      <th>Gold</th>\n",
       "      <th>Silver</th>\n",
       "      <th>Bronze</th>\n",
       "      <th>Total</th>\n",
       "    </tr>\n",
       "  </thead>\n",
       "  <tbody>\n",
       "    <tr>\n",
       "      <th>0</th>\n",
       "      <td>Michael Phelps</td>\n",
       "      <td>23.0</td>\n",
       "      <td>United States</td>\n",
       "      <td>2008</td>\n",
       "      <td>08-24-08</td>\n",
       "      <td>Swimming</td>\n",
       "      <td>8</td>\n",
       "      <td>0</td>\n",
       "      <td>0</td>\n",
       "      <td>8</td>\n",
       "    </tr>\n",
       "    <tr>\n",
       "      <th>1</th>\n",
       "      <td>Michael Phelps</td>\n",
       "      <td>19.0</td>\n",
       "      <td>United States</td>\n",
       "      <td>2004</td>\n",
       "      <td>08-29-04</td>\n",
       "      <td>Swimming</td>\n",
       "      <td>6</td>\n",
       "      <td>0</td>\n",
       "      <td>2</td>\n",
       "      <td>8</td>\n",
       "    </tr>\n",
       "    <tr>\n",
       "      <th>2</th>\n",
       "      <td>Michael Phelps</td>\n",
       "      <td>27.0</td>\n",
       "      <td>United States</td>\n",
       "      <td>2012</td>\n",
       "      <td>08-12-12</td>\n",
       "      <td>Swimming</td>\n",
       "      <td>4</td>\n",
       "      <td>2</td>\n",
       "      <td>0</td>\n",
       "      <td>6</td>\n",
       "    </tr>\n",
       "    <tr>\n",
       "      <th>3</th>\n",
       "      <td>Natalie Coughlin</td>\n",
       "      <td>25.0</td>\n",
       "      <td>United States</td>\n",
       "      <td>2008</td>\n",
       "      <td>08-24-08</td>\n",
       "      <td>Swimming</td>\n",
       "      <td>1</td>\n",
       "      <td>2</td>\n",
       "      <td>3</td>\n",
       "      <td>6</td>\n",
       "    </tr>\n",
       "    <tr>\n",
       "      <th>4</th>\n",
       "      <td>Aleksey Nemov</td>\n",
       "      <td>24.0</td>\n",
       "      <td>Russia</td>\n",
       "      <td>2000</td>\n",
       "      <td>10-01-00</td>\n",
       "      <td>Gymnastics</td>\n",
       "      <td>2</td>\n",
       "      <td>1</td>\n",
       "      <td>3</td>\n",
       "      <td>6</td>\n",
       "    </tr>\n",
       "  </tbody>\n",
       "</table>\n",
       "</div>"
      ],
      "text/plain": [
       "            Athlete   Age        Country  Year      Date       Sport  Gold  \\\n",
       "0    Michael Phelps  23.0  United States  2008  08-24-08    Swimming     8   \n",
       "1    Michael Phelps  19.0  United States  2004  08-29-04    Swimming     6   \n",
       "2    Michael Phelps  27.0  United States  2012  08-12-12    Swimming     4   \n",
       "3  Natalie Coughlin  25.0  United States  2008  08-24-08    Swimming     1   \n",
       "4     Aleksey Nemov  24.0         Russia  2000  10-01-00  Gymnastics     2   \n",
       "\n",
       "   Silver  Bronze  Total  \n",
       "0       0       0      8  \n",
       "1       0       2      8  \n",
       "2       2       0      6  \n",
       "3       2       3      6  \n",
       "4       1       3      6  "
      ]
     },
     "execution_count": 5,
     "metadata": {},
     "output_type": "execute_result"
    }
   ],
   "source": [
    "df.head()"
   ]
  },
  {
   "cell_type": "markdown",
   "id": "2de0021b-3265-474c-b87e-f641669928c8",
   "metadata": {},
   "source": [
    "## Total medals (Gold + Silver + Bronze) each athlete won"
   ]
  },
  {
   "cell_type": "code",
   "execution_count": 9,
   "id": "8cf833f2-903f-43fb-bf93-affbadf9b0a9",
   "metadata": {},
   "outputs": [
    {
     "name": "stdout",
     "output_type": "stream",
     "text": [
      "               Athlete  Total\n",
      "1       Michael Phelps      8\n",
      "0       Michael Phelps      8\n",
      "4        Aleksey Nemov      6\n",
      "3     Natalie Coughlin      6\n",
      "2       Michael Phelps      6\n",
      "...                ...    ...\n",
      "8597         Wu Hui-Ju      1\n",
      "8598  Hiroshi Yamamoto      1\n",
      "8599      Yuan Shu-Chi      1\n",
      "8600        Yun Mi-Jin      1\n",
      "7540       Asjha Jones      1\n",
      "\n",
      "[8618 rows x 2 columns]\n"
     ]
    }
   ],
   "source": [
    "total_medals = df[['Athlete','Total']].sort_values('Total', ascending=False)\n",
    "print(total_medals)"
   ]
  },
  {
   "cell_type": "markdown",
   "id": "ed57fa01-72b6-4a4d-8c89-8792655ebee1",
   "metadata": {},
   "source": [
    "## Athlete with the highest number of gold medals"
   ]
  },
  {
   "cell_type": "code",
   "execution_count": 10,
   "id": "092e8a09-2059-4a17-a453-036fdeaf06ae",
   "metadata": {},
   "outputs": [
    {
     "name": "stdout",
     "output_type": "stream",
     "text": [
      "          Athlete  Gold\n",
      "0  Michael Phelps     8\n"
     ]
    }
   ],
   "source": [
    "top_gold = df[['Athlete','Gold']].sort_values('Gold', ascending=False).head(1)\n",
    "print(top_gold)"
   ]
  },
  {
   "cell_type": "markdown",
   "id": "33013a4a-ef41-4baa-bea5-8314e0791454",
   "metadata": {},
   "source": [
    "## Country with the most total medals"
   ]
  },
  {
   "cell_type": "code",
   "execution_count": 12,
   "id": "d3dae0a9-a7d0-4d92-a040-1085cf394dd4",
   "metadata": {},
   "outputs": [
    {
     "name": "stdout",
     "output_type": "stream",
     "text": [
      "Country\n",
      "United States    1312\n",
      "Russia            768\n",
      "Germany           629\n",
      "Australia         609\n",
      "China             530\n",
      "Name: Total_Medals, dtype: int64\n"
     ]
    }
   ],
   "source": [
    "country_total = df.groupby('Country')['Total_Medals'].sum().sort_values(ascending=False)\n",
    "print(country_total.head())"
   ]
  },
  {
   "cell_type": "markdown",
   "id": "66d6fd60-4128-4364-9f60-7cb20d1e3366",
   "metadata": {},
   "source": [
    "## Total medal count per year"
   ]
  },
  {
   "cell_type": "code",
   "execution_count": 13,
   "id": "9fab921c-35cf-4502-be61-d59d76166889",
   "metadata": {},
   "outputs": [
    {
     "name": "stdout",
     "output_type": "stream",
     "text": [
      "Year\n",
      "2000    2005\n",
      "2002     478\n",
      "2004    2004\n",
      "2006     526\n",
      "2008    2050\n",
      "2010     520\n",
      "2012    1946\n",
      "Name: Total_Medals, dtype: int64\n"
     ]
    }
   ],
   "source": [
    "medals_per_year = df.groupby('Year')['Total_Medals'].sum()\n",
    "print(medals_per_year)"
   ]
  },
  {
   "cell_type": "markdown",
   "id": "069fddf8-c6a6-433b-84ae-dbe94c48f680",
   "metadata": {},
   "source": [
    "## Medals each country won in each sport"
   ]
  },
  {
   "cell_type": "code",
   "execution_count": 14,
   "id": "44a26811-951f-4a02-941b-e2f1aa0601ec",
   "metadata": {},
   "outputs": [
    {
     "name": "stdout",
     "output_type": "stream",
     "text": [
      "                           Gold  Silver  Bronze\n",
      "Country     Sport                              \n",
      "Afghanistan Taekwondo         0       0       2\n",
      "Algeria     Athletics         2       1       2\n",
      "            Boxing            0       0       1\n",
      "            Judo              0       1       1\n",
      "Argentina   Basketball       12       0      12\n",
      "...                         ...     ...     ...\n",
      "Venezuela   Taekwondo         0       0       2\n",
      "            Weightlifting     0       0       1\n",
      "Vietnam     Taekwondo         0       1       0\n",
      "            Weightlifting     0       1       0\n",
      "Zimbabwe    Swimming          2       4       1\n",
      "\n",
      "[837 rows x 3 columns]\n"
     ]
    }
   ],
   "source": [
    "country_sport = df.groupby(['Country','Sport'])[['Gold','Silver','Bronze']].sum()\n",
    "print(country_sport)"
   ]
  },
  {
   "cell_type": "markdown",
   "id": "18895254-6c55-4cb6-8fb5-767f9248c1e3",
   "metadata": {},
   "source": [
    "## Sport contributing the most medals"
   ]
  },
  {
   "cell_type": "code",
   "execution_count": 15,
   "id": "9ccb7dd2-a6c1-429b-a833-02323acadca1",
   "metadata": {},
   "outputs": [
    {
     "name": "stdout",
     "output_type": "stream",
     "text": [
      "Sport\n",
      "Swimming                     765\n",
      "Athletics                    753\n",
      "Rowing                       576\n",
      "Football                     407\n",
      "Hockey                       388\n",
      "Ice Hockey                   384\n",
      "Handball                     351\n",
      "Canoeing                     333\n",
      "Cycling                      306\n",
      "Waterpolo                    306\n",
      "Basketball                   287\n",
      "Gymnastics                   282\n",
      "Volleyball                   281\n",
      "Fencing                      256\n",
      "Wrestling                    245\n",
      "Judo                         224\n",
      "Baseball                     216\n",
      "Sailing                      210\n",
      "Shooting                     192\n",
      "Boxing                       188\n",
      "Equestrian                   182\n",
      "Weightlifting                180\n",
      "Cross Country Skiing         174\n",
      "Diving                       144\n",
      "Speed Skating                140\n",
      "Biathlon                     138\n",
      "Short-Track Speed Skating    138\n",
      "Softball                     134\n",
      "Synchronized Swimming        129\n",
      "Taekwondo                    112\n",
      "Archery                       96\n",
      "Badminton                     96\n",
      "Alpine Skiing                 90\n",
      "Rhythmic Gymnastics           84\n",
      "Table Tennis                  84\n",
      "Curling                       82\n",
      "Tennis                        78\n",
      "Bobsleigh                     72\n",
      "Ski Jumping                   54\n",
      "Figure Skating                54\n",
      "Nordic Combined               54\n",
      "Beach Volleyball              48\n",
      "Snowboarding                  48\n",
      "Freestyle Skiing              42\n",
      "Luge                          36\n",
      "Modern Pentathlon             24\n",
      "Triathlon                     24\n",
      "Trampoline                    24\n",
      "Skeleton                      18\n",
      "Name: Total_Medals, dtype: int64\n"
     ]
    }
   ],
   "source": [
    "sport_total = df.groupby('Sport')['Total_Medals'].sum().sort_values(ascending=False)\n",
    "print(sport_total)"
   ]
  },
  {
   "cell_type": "markdown",
   "id": "9216c81a-bdfc-4640-8f4c-281773cc3f29",
   "metadata": {},
   "source": [
    "## Athletes consistent across multiple Olympics"
   ]
  },
  {
   "cell_type": "code",
   "execution_count": 16,
   "id": "ce492b70-acc1-4f81-b30f-8a2d462b703c",
   "metadata": {},
   "outputs": [
    {
     "name": "stdout",
     "output_type": "stream",
     "text": [
      "                 Athlete  Year\n",
      "7          Aaron Peirsol     3\n",
      "11          Abby Wambach     2\n",
      "27           Adam Malysz     2\n",
      "28           Adam Nelson     2\n",
      "29             Adam Pine     2\n",
      "...                  ...   ...\n",
      "6911         Zou Shiming     3\n",
      "6919  Zuzana Štefeceková     2\n",
      "6925       Ákos Vereckei     2\n",
      "6938         Éric Bédard     2\n",
      "6954         Živko Gocic     2\n",
      "\n",
      "[1377 rows x 2 columns]\n"
     ]
    }
   ],
   "source": [
    "ath_years = df.groupby('Athlete')['Year'].nunique().reset_index()\n",
    "consistent = ath_years[ath_years['Year'] > 1]\n",
    "print(consistent)"
   ]
  },
  {
   "cell_type": "markdown",
   "id": "3644fa19-abda-4cd5-a922-b999e45d1981",
   "metadata": {},
   "source": [
    "## Total medals by each country (all years)"
   ]
  },
  {
   "cell_type": "code",
   "execution_count": 17,
   "id": "c0ab5e9c-8f2e-4ca1-b293-55f94dcc8eac",
   "metadata": {},
   "outputs": [
    {
     "name": "stdout",
     "output_type": "stream",
     "text": [
      "Country\n",
      "Afghanistan      2\n",
      "Algeria          8\n",
      "Argentina      141\n",
      "Armenia         10\n",
      "Australia      609\n",
      "              ... \n",
      "Uruguay          1\n",
      "Uzbekistan      19\n",
      "Venezuela        4\n",
      "Vietnam          2\n",
      "Zimbabwe         7\n",
      "Name: Total_Medals, Length: 110, dtype: int64\n"
     ]
    }
   ],
   "source": [
    "total_country = df.groupby('Country')['Total_Medals'].sum()\n",
    "print(total_country)"
   ]
  },
  {
   "cell_type": "markdown",
   "id": "8e0f5913-99dd-4a1e-a09e-19a7ce8b502a",
   "metadata": {},
   "source": [
    "## Percentage of gold, silver, bronze"
   ]
  },
  {
   "cell_type": "code",
   "execution_count": 18,
   "id": "62379448-1ff1-4762-b7f3-2582abb31cae",
   "metadata": {},
   "outputs": [
    {
     "name": "stdout",
     "output_type": "stream",
     "text": [
      "Gold      32.983524\n",
      "Silver    32.857593\n",
      "Bronze    34.158883\n",
      "dtype: float64\n"
     ]
    }
   ],
   "source": [
    "totals = df[['Gold','Silver','Bronze']].sum()\n",
    "percentages = (totals / totals.sum()) * 100\n",
    "print(percentages)"
   ]
  },
  {
   "cell_type": "markdown",
   "id": "ba1f5ede-fb90-469d-b1aa-2412e464e0bf",
   "metadata": {},
   "source": [
    "## Average age of medal winners"
   ]
  },
  {
   "cell_type": "code",
   "execution_count": 19,
   "id": "b9c583ff-dc79-4697-985f-7cfa89287110",
   "metadata": {},
   "outputs": [
    {
     "name": "stdout",
     "output_type": "stream",
     "text": [
      "Average age: 26.405433646812956\n"
     ]
    }
   ],
   "source": [
    "avg_age = df['Age'].mean()\n",
    "print(\"Average age:\", avg_age)\n"
   ]
  },
  {
   "cell_type": "markdown",
   "id": "cbac9aee-5340-417e-ac69-d47564c60256",
   "metadata": {},
   "source": [
    "## Relationship between age and medals"
   ]
  },
  {
   "cell_type": "code",
   "execution_count": 20,
   "id": "bdb43437-0670-42e3-ba49-e1b25f08f60c",
   "metadata": {},
   "outputs": [
    {
     "name": "stdout",
     "output_type": "stream",
     "text": [
      "-0.07235683052681774\n"
     ]
    }
   ],
   "source": [
    "corr = df['Age'].corr(df['Total_Medals'])\n",
    "print(corr)"
   ]
  },
  {
   "cell_type": "markdown",
   "id": "94ad1f1b-2f05-4ec7-91ab-c9f0898a27ca",
   "metadata": {},
   "source": [
    "## Year with highest number of gold medals"
   ]
  },
  {
   "cell_type": "code",
   "execution_count": 21,
   "id": "c36cc1c3-855c-483c-9f2c-4e6bbac688f3",
   "metadata": {},
   "outputs": [
    {
     "name": "stdout",
     "output_type": "stream",
     "text": [
      "Year\n",
      "2008    671\n",
      "Name: Gold, dtype: int64\n"
     ]
    }
   ],
   "source": [
    "gold_year = df.groupby('Year')['Gold'].sum().sort_values(ascending=False).head(1)\n",
    "print(gold_year)"
   ]
  },
  {
   "cell_type": "markdown",
   "id": "1da9f9b0-279c-4c3b-b6cb-ce453dd8f4be",
   "metadata": {},
   "source": [
    "## U.S. vs. other countries"
   ]
  },
  {
   "cell_type": "code",
   "execution_count": 22,
   "id": "22a4f32f-8016-408b-a91b-5dd325b6f97e",
   "metadata": {},
   "outputs": [
    {
     "name": "stdout",
     "output_type": "stream",
     "text": [
      "Country\n",
      "United States    1312\n",
      "Russia            768\n",
      "Germany           629\n",
      "Australia         609\n",
      "China             530\n",
      "Canada            370\n",
      "Italy             331\n",
      "Great Britain     322\n",
      "Netherlands       318\n",
      "France            318\n",
      "Name: Total_Medals, dtype: int64\n"
     ]
    }
   ],
   "source": [
    "country_compare = df.groupby('Country')['Total_Medals'].sum().sort_values(ascending=False)\n",
    "print(country_compare.head(10))\n"
   ]
  },
  {
   "cell_type": "markdown",
   "id": "5bec8407-1f49-41ff-a3e6-25f9d31fd432",
   "metadata": {},
   "source": [
    "## Athletes who won medals in multiple Olympic years"
   ]
  },
  {
   "cell_type": "code",
   "execution_count": 23,
   "id": "3e4aec08-27c5-475c-903d-8983e85fa213",
   "metadata": {},
   "outputs": [
    {
     "name": "stdout",
     "output_type": "stream",
     "text": [
      "Athlete\n",
      "Aaron Peirsol         3\n",
      "Abby Wambach          2\n",
      "Adam Malysz           2\n",
      "Adam Nelson           2\n",
      "Adam Pine             2\n",
      "                     ..\n",
      "Zou Shiming           3\n",
      "Zuzana Štefeceková    2\n",
      "Ákos Vereckei         2\n",
      "Éric Bédard           2\n",
      "Živko Gocic           2\n",
      "Name: Year, Length: 1377, dtype: int64\n"
     ]
    }
   ],
   "source": [
    "multi_year = df.groupby('Athlete')['Year'].nunique()\n",
    "print(multi_year[multi_year > 1])\n"
   ]
  },
  {
   "cell_type": "markdown",
   "id": "64031aa7-731c-4a24-b1a4-510ac62f241e",
   "metadata": {},
   "source": [
    "## Total medals per sport"
   ]
  },
  {
   "cell_type": "code",
   "execution_count": 24,
   "id": "642828d6-26c6-4847-aae1-e4ab18d85bb7",
   "metadata": {},
   "outputs": [
    {
     "name": "stdout",
     "output_type": "stream",
     "text": [
      "Sport\n",
      "Alpine Skiing                 90\n",
      "Archery                       96\n",
      "Athletics                    753\n",
      "Badminton                     96\n",
      "Baseball                     216\n",
      "Basketball                   287\n",
      "Beach Volleyball              48\n",
      "Biathlon                     138\n",
      "Bobsleigh                     72\n",
      "Boxing                       188\n",
      "Canoeing                     333\n",
      "Cross Country Skiing         174\n",
      "Curling                       82\n",
      "Cycling                      306\n",
      "Diving                       144\n",
      "Equestrian                   182\n",
      "Fencing                      256\n",
      "Figure Skating                54\n",
      "Football                     407\n",
      "Freestyle Skiing              42\n",
      "Gymnastics                   282\n",
      "Handball                     351\n",
      "Hockey                       388\n",
      "Ice Hockey                   384\n",
      "Judo                         224\n",
      "Luge                          36\n",
      "Modern Pentathlon             24\n",
      "Nordic Combined               54\n",
      "Rhythmic Gymnastics           84\n",
      "Rowing                       576\n",
      "Sailing                      210\n",
      "Shooting                     192\n",
      "Short-Track Speed Skating    138\n",
      "Skeleton                      18\n",
      "Ski Jumping                   54\n",
      "Snowboarding                  48\n",
      "Softball                     134\n",
      "Speed Skating                140\n",
      "Swimming                     765\n",
      "Synchronized Swimming        129\n",
      "Table Tennis                  84\n",
      "Taekwondo                    112\n",
      "Tennis                        78\n",
      "Trampoline                    24\n",
      "Triathlon                     24\n",
      "Volleyball                   281\n",
      "Waterpolo                    306\n",
      "Weightlifting                180\n",
      "Wrestling                    245\n",
      "Name: Total_Medals, dtype: int64\n"
     ]
    }
   ],
   "source": [
    "sport_medals = df.groupby('Sport')['Total_Medals'].sum()\n",
    "print(sport_medals)\n"
   ]
  },
  {
   "cell_type": "markdown",
   "id": "c56732a0-c3be-4f73-9a08-6c5f0083d728",
   "metadata": {},
   "source": [
    "## Country dominating swimming"
   ]
  },
  {
   "cell_type": "code",
   "execution_count": 25,
   "id": "e27d0212-a049-4e37-bebc-ded5642d0859",
   "metadata": {},
   "outputs": [
    {
     "name": "stdout",
     "output_type": "stream",
     "text": [
      "Country\n",
      "United States    278\n",
      "Australia        163\n",
      "Japan             67\n",
      "Russia            63\n",
      "China             55\n",
      "Name: Total_Medals, dtype: int64\n"
     ]
    }
   ],
   "source": [
    "swim = df[df['Sport'].str.contains('Swim', case=False, na=False)]\n",
    "swim_country = swim.groupby('Country')['Total_Medals'].sum().sort_values(ascending=False)\n",
    "print(swim_country.head(5))\n"
   ]
  },
  {
   "cell_type": "markdown",
   "id": "f764c79f-ef45-4be7-9b1f-e0fc3a38e15f",
   "metadata": {},
   "source": [
    "## Athletes with same total medals as Michael Phelps"
   ]
  },
  {
   "cell_type": "code",
   "execution_count": 26,
   "id": "f0aa6eeb-9aa0-4b64-87ea-1d54a65471f8",
   "metadata": {},
   "outputs": [
    {
     "name": "stdout",
     "output_type": "stream",
     "text": [
      "          Athlete  Total_Medals\n",
      "0  Michael Phelps             8\n",
      "1  Michael Phelps             8\n"
     ]
    }
   ],
   "source": [
    "phelps_medals = df.loc[df['Athlete']=='Michael Phelps','Total_Medals'].iloc[0]\n",
    "same_as_phelps = df[df['Total_Medals']==phelps_medals][['Athlete','Total_Medals']]\n",
    "print(same_as_phelps)\n"
   ]
  },
  {
   "cell_type": "markdown",
   "id": "ff5f0d37-8da6-48d9-bbe9-d3ab88216d4c",
   "metadata": {},
   "source": [
    "## Total medals each Olympic year"
   ]
  },
  {
   "cell_type": "code",
   "execution_count": 27,
   "id": "51d91ce4-4ad5-413e-a969-cab914ae7c03",
   "metadata": {},
   "outputs": [
    {
     "name": "stdout",
     "output_type": "stream",
     "text": [
      "Year\n",
      "2000    2005\n",
      "2002     478\n",
      "2004    2004\n",
      "2006     526\n",
      "2008    2050\n",
      "2010     520\n",
      "2012    1946\n",
      "Name: Total_Medals, dtype: int64\n"
     ]
    }
   ],
   "source": [
    "year_total = df.groupby('Year')['Total_Medals'].sum()\n",
    "print(year_total)\n"
   ]
  },
  {
   "cell_type": "markdown",
   "id": "905405ff-5e91-462c-8b4c-03be22fae515",
   "metadata": {},
   "source": [
    "## Countries that improved in consecutive Olympics"
   ]
  },
  {
   "cell_type": "code",
   "execution_count": 28,
   "id": "b99bf496-1cbe-4ccd-a894-f93f398d07fc",
   "metadata": {},
   "outputs": [
    {
     "name": "stdout",
     "output_type": "stream",
     "text": [
      "           Country  Year  Total_Medals  Prev\n",
      "6        Argentina  2004            49  20.0\n",
      "7        Argentina  2008            51  49.0\n",
      "10         Armenia  2008             6   1.0\n",
      "14       Australia  2004           156   2.0\n",
      "16       Australia  2008           149   2.0\n",
      "..             ...   ...           ...   ...\n",
      "386  United States  2008           317  52.0\n",
      "388  United States  2012           254  97.0\n",
      "391     Uzbekistan  2004             5   4.0\n",
      "392     Uzbekistan  2008             6   5.0\n",
      "400       Zimbabwe  2008             4   3.0\n",
      "\n",
      "[138 rows x 4 columns]\n"
     ]
    }
   ],
   "source": [
    "country_year = df.groupby(['Country','Year'])['Total_Medals'].sum().reset_index()\n",
    "country_year['Prev'] = country_year.groupby('Country')['Total_Medals'].shift(1)\n",
    "improved = country_year[country_year['Total_Medals'] > country_year['Prev']]\n",
    "print(improved)\n"
   ]
  },
  {
   "cell_type": "markdown",
   "id": "f917735a-77b9-409b-b586-968de1a07a4e",
   "metadata": {},
   "source": [
    "## Average number of medals per athlete"
   ]
  },
  {
   "cell_type": "code",
   "execution_count": 29,
   "id": "1de8acd1-ee0b-4d4b-a12a-531b6d7b6919",
   "metadata": {},
   "outputs": [
    {
     "name": "stdout",
     "output_type": "stream",
     "text": [
      "Average medals per athlete: 1.105708981202135\n"
     ]
    }
   ],
   "source": [
    "avg_medals = df['Total_Medals'].mean()\n",
    "print(\"Average medal\n",
    "s per athlete:\", avg_medals)\n"
   ]
  },
  {
   "cell_type": "markdown",
   "id": "cad2ab9d-f20e-496e-a81d-c6f38aeda0f1",
   "metadata": {},
   "source": [
    "## Athletes who won at least one gold"
   ]
  },
  {
   "cell_type": "code",
   "execution_count": 30,
   "id": "03780aad-17f5-4acf-9e54-7912917bccdc",
   "metadata": {},
   "outputs": [
    {
     "name": "stdout",
     "output_type": "stream",
     "text": [
      "2466\n"
     ]
    }
   ],
   "source": [
    "gold_athletes = df[df['Gold'] > 0]['Athlete'].unique()\n",
    "print(len(gold_athletes))\n"
   ]
  },
  {
   "cell_type": "markdown",
   "id": "557c114b-5848-4e80-a060-18d45d60abc5",
   "metadata": {},
   "source": [
    "## Sport with most diverse medal-winning countries"
   ]
  },
  {
   "cell_type": "code",
   "execution_count": 31,
   "id": "d9f54592-c749-4040-abe9-312dd9e1bba1",
   "metadata": {},
   "outputs": [
    {
     "name": "stdout",
     "output_type": "stream",
     "text": [
      "Sport\n",
      "Athletics    68\n",
      "Judo         43\n",
      "Shooting     40\n",
      "Boxing       39\n",
      "Wrestling    38\n",
      "Name: Country, dtype: int64\n"
     ]
    }
   ],
   "source": [
    "diverse = df.groupby('Sport')['Country'].nunique().sort_values(ascending=False)\n",
    "print(diverse.head(5))"
   ]
  },
  {
   "cell_type": "markdown",
   "id": "fc7f6e21-69ae-4309-b55d-c8d783fbfa16",
   "metadata": {},
   "source": [
    "## Medal-to-athlete ratio per country"
   ]
  },
  {
   "cell_type": "code",
   "execution_count": 32,
   "id": "018a9c28-5eef-4d83-8103-8803b0974f83",
   "metadata": {},
   "outputs": [
    {
     "name": "stdout",
     "output_type": "stream",
     "text": [
      "Country\n",
      "Zimbabwe                7.000000\n",
      "Singapore               2.333333\n",
      "Tunisia                 2.000000\n",
      "Kuwait                  2.000000\n",
      "Afghanistan             2.000000\n",
      "                          ...   \n",
      "Togo                    1.000000\n",
      "Uruguay                 1.000000\n",
      "United Arab Emirates    1.000000\n",
      "Venezuela               1.000000\n",
      "Vietnam                 1.000000\n",
      "Length: 110, dtype: float64\n"
     ]
    }
   ],
   "source": [
    "ath_per_country = df.groupby('Country')['Athlete'].nunique()\n",
    "ratio = (country_total / ath_per_country).sort_values(ascending=False)\n",
    "print(ratio)\n"
   ]
  },
  {
   "cell_type": "markdown",
   "id": "cc17a1b5-5594-41c8-aa0e-a31c7b9e7b42",
   "metadata": {},
   "source": [
    "## Country with highest avg gold medals per year"
   ]
  },
  {
   "cell_type": "code",
   "execution_count": 33,
   "id": "6a4a393b-780c-46ac-9a6a-e2f613a0d32f",
   "metadata": {},
   "outputs": [
    {
     "name": "stdout",
     "output_type": "stream",
     "text": [
      "Country\n",
      "United States    78.857143\n",
      "China            33.428571\n",
      "Russia           33.428571\n",
      "Germany          31.857143\n",
      "Canada           24.000000\n",
      "Name: Gold, dtype: float64\n"
     ]
    }
   ],
   "source": [
    "avg_gold = df.groupby(['Country','Year'])['Gold'].sum().groupby('Country').mean().sort_values(ascending=False)\n",
    "print(avg_gold.head(5))\n"
   ]
  },
  {
   "cell_type": "markdown",
   "id": "56766ddf-4d4d-4382-a59d-ee96d55c7cc2",
   "metadata": {},
   "source": [
    "## Proportion of gold to total medals (per country)"
   ]
  },
  {
   "cell_type": "code",
   "execution_count": 34,
   "id": "e957fac9-a1b4-45f9-9dee-6a5a5c4864c2",
   "metadata": {},
   "outputs": [
    {
     "name": "stdout",
     "output_type": "stream",
     "text": [
      "Country\n",
      "Grenada                 1.0\n",
      "Cameroon                1.0\n",
      "United Arab Emirates    1.0\n",
      "Uganda                  1.0\n",
      "Mozambique              1.0\n",
      "                       ... \n",
      "Togo                    0.0\n",
      "Tajikistan              0.0\n",
      "Syria                   0.0\n",
      "Uruguay                 0.0\n",
      "Vietnam                 0.0\n",
      "Length: 110, dtype: float64\n"
     ]
    }
   ],
   "source": [
    "prop_gold = (df.groupby('Country')['Gold'].sum() / df.groupby('Country')['Total_Medals'].sum()).sort_values(ascending=False)\n",
    "print(prop_gold)\n"
   ]
  },
  {
   "cell_type": "markdown",
   "id": "50fdd64b-f4eb-4d31-9861-7d4d5daeb9b3",
   "metadata": {},
   "source": [
    "## Number of athletes per country"
   ]
  },
  {
   "cell_type": "code",
   "execution_count": 35,
   "id": "9fe7c1af-3c41-4fa1-ba3f-fd1ba40d2a27",
   "metadata": {},
   "outputs": [
    {
     "name": "stdout",
     "output_type": "stream",
     "text": [
      "Country\n",
      "Afghanistan      1\n",
      "Algeria          8\n",
      "Argentina      103\n",
      "Armenia         10\n",
      "Australia      415\n",
      "              ... \n",
      "Uruguay          1\n",
      "Uzbekistan      14\n",
      "Venezuela        4\n",
      "Vietnam          2\n",
      "Zimbabwe         1\n",
      "Name: Athlete, Length: 110, dtype: int64\n"
     ]
    }
   ],
   "source": [
    "athletes_country = df.groupby('Country')['Athlete'].nunique()\n",
    "print(athletes_country)\n"
   ]
  },
  {
   "cell_type": "markdown",
   "id": "ef4d6f3a-df77-42f8-bd28-14dbccead008",
   "metadata": {},
   "source": [
    "## Top performers by total medals"
   ]
  },
  {
   "cell_type": "code",
   "execution_count": 36,
   "id": "1b599426-bdf1-4c43-9be4-ea163319d1b3",
   "metadata": {},
   "outputs": [
    {
     "name": "stdout",
     "output_type": "stream",
     "text": [
      "             Athlete  Total_Medals\n",
      "1     Michael Phelps             8\n",
      "0     Michael Phelps             8\n",
      "4      Aleksey Nemov             6\n",
      "3   Natalie Coughlin             6\n",
      "2     Michael Phelps             6\n",
      "6     Missy Franklin             5\n",
      "7        Ryan Lochte             5\n",
      "8    Allison Schmitt             5\n",
      "9   Natalie Coughlin             5\n",
      "10        Ian Thorpe             5\n"
     ]
    }
   ],
   "source": [
    "top_athletes = df[['Athlete','Total_Medals']].sort_values('Total_Medals', ascending=False).head(10)\n",
    "print(top_athletes)\n"
   ]
  },
  {
   "cell_type": "markdown",
   "id": "43b2b4e8-daa4-4f93-9ed3-a4cbaaebe494",
   "metadata": {},
   "source": [
    "## Country medals in a particular year (e.g., 2012)"
   ]
  },
  {
   "cell_type": "code",
   "execution_count": 38,
   "id": "92835f28-fc18-4a88-afa4-1d88ced669aa",
   "metadata": {},
   "outputs": [
    {
     "name": "stdout",
     "output_type": "stream",
     "text": [
      "                   Country  Year  Total_Medals  Prev  Delta\n",
      "386          United States  2008           317  52.0  265.0\n",
      "74                   China  2008           184  13.0  171.0\n",
      "14               Australia  2004           156   2.0  154.0\n",
      "301                 Russia  2004           191  38.0  153.0\n",
      "160          Great Britain  2012           126   1.0  125.0\n",
      "..                     ...   ...           ...   ...    ...\n",
      "172                Hungary  2012            25  27.0   -2.0\n",
      "94                    Cuba  2004            62  65.0   -3.0\n",
      "69                   Chile  2008             1   4.0   -3.0\n",
      "298                Romania  2012            16  22.0   -6.0\n",
      "311  Serbia and Montenegro  2004            13  25.0  -12.0\n",
      "\n",
      "[86 rows x 5 columns]\n"
     ]
    }
   ],
   "source": [
    "country_year['Delta'] = country_year.groupby('Country')['Total_Medals'].diff()\n",
    "improvement = country_year.dropna(subset=['Delta']).loc[\n",
    "    country_year.dropna(subset=['Delta']).groupby('Country')['Delta'].idxmax()\n",
    "].sort_values('Delta', ascending=False)\n",
    "print(improvement)"
   ]
  },
  {
   "cell_type": "markdown",
   "id": "3752ba2a-2a5d-4a55-9aef-bfc02763cb74",
   "metadata": {},
   "source": [
    "## Countries with greatest improvement since last Olympics"
   ]
  },
  {
   "cell_type": "code",
   "execution_count": 40,
   "id": "3db636b8-779b-4ea1-9862-86511c4e4682",
   "metadata": {},
   "outputs": [
    {
     "name": "stdout",
     "output_type": "stream",
     "text": [
      "                   Country  Year  Total_Medals  Prev  Delta\n",
      "386          United States  2008           317  52.0  265.0\n",
      "74                   China  2008           184  13.0  171.0\n",
      "14               Australia  2004           156   2.0  154.0\n",
      "301                 Russia  2004           191  38.0  153.0\n",
      "160          Great Britain  2012           126   1.0  125.0\n",
      "..                     ...   ...           ...   ...    ...\n",
      "172                Hungary  2012            25  27.0   -2.0\n",
      "94                    Cuba  2004            62  65.0   -3.0\n",
      "69                   Chile  2008             1   4.0   -3.0\n",
      "298                Romania  2012            16  22.0   -6.0\n",
      "311  Serbia and Montenegro  2004            13  25.0  -12.0\n",
      "\n",
      "[86 rows x 5 columns]\n"
     ]
    }
   ],
   "source": [
    "country_year['Delta'] = country_year.groupby('Country')['Total_Medals'].diff()\n",
    "filtered_country_year = country_year.dropna(subset=['Delta'])\n",
    "improvement = filtered_country_year.loc[filtered_country_year.groupby('Country')['Delta'].idxmax()]\n",
    "improvement = improvement.sort_values('Delta', ascending=False)\n",
    "print(improvement)"
   ]
  },
  {
   "cell_type": "markdown",
   "id": "3ffb6934-e580-4ffa-88bc-b0426dfcb879",
   "metadata": {},
   "source": [
    "## Youngest and oldest medal winner"
   ]
  },
  {
   "cell_type": "code",
   "execution_count": 41,
   "id": "8750e33a-e361-46ca-90ea-a8b7a176f678",
   "metadata": {},
   "outputs": [
    {
     "name": "stdout",
     "output_type": "stream",
     "text": [
      "Youngest:\n",
      "                      Athlete   Age\n",
      "113               Yang Yilin  15.0\n",
      "267             Leisel Jones  15.0\n",
      "298              Go Gi-Hyeon  15.0\n",
      "462              Chen Ruolin  15.0\n",
      "2118           Katie Ledecky  15.0\n",
      "2132          Ruta Meilutyte  15.0\n",
      "2262           Dániel Gyurta  15.0\n",
      "2420         Arianna Fontana  15.0\n",
      "3752          Olga Glatskikh  15.0\n",
      "3781      Kharikleia Pantazi  15.0\n",
      "4434              Kim Martin  15.0\n",
      "5240               Kyla Ross  15.0\n",
      "5262         Gabriela Dragoi  15.0\n",
      "5345  Tasha Schwikert-Warren  15.0\n",
      "5353                Yang Yun  15.0\n",
      "6027            Sophie Lamon  15.0\n",
      "6212        Alejandra Orozco  15.0\n",
      "6249        Yuliya Koltunova  15.0\n",
      "Oldest:\n",
      "          Athlete   Age\n",
      "6115  Ian Millar  61.0\n"
     ]
    }
   ],
   "source": [
    "youngest = df.loc[df['Age']==df['Age'].min(), ['Athlete','Age']]\n",
    "oldest = df.loc[df['Age']==df['Age'].max(), ['Athlete','Age']]\n",
    "print(\"Youngest:\\n\", youngest)\n",
    "print(\"Oldest:\\n\", oldest)\n"
   ]
  },
  {
   "cell_type": "markdown",
   "id": "79b3488b-97d4-47e1-bf5e-7089bef23b0b",
   "metadata": {},
   "source": [
    "## Athletes who won only bronze medals"
   ]
  },
  {
   "cell_type": "code",
   "execution_count": 42,
   "id": "cde688d8-f20b-45ba-ab44-612f68e5580f",
   "metadata": {},
   "outputs": [
    {
     "name": "stdout",
     "output_type": "stream",
     "text": [
      "                   Athlete  Bronze\n",
      "66      Antje Buschschulte       3\n",
      "106         Felix Gottwald       3\n",
      "155          Feng Tian Wei       2\n",
      "157      Dmitrij Ovtcharov       2\n",
      "188        Alison Bartosik       2\n",
      "...                    ...     ...\n",
      "8610       Barbara Mensing       1\n",
      "8612        Cornelia Pfohl       1\n",
      "8615      Wietse van Alten       1\n",
      "8616  Sandra Wagner-Sachse       1\n",
      "8617             Rod White       1\n",
      "\n",
      "[2899 rows x 2 columns]\n"
     ]
    }
   ],
   "source": [
    "only_bronze = df[(df['Bronze']>0) & (df['Gold']==0) & (df['Silver']==0)]\n",
    "print(only_bronze[['Athlete','Bronze']])"
   ]
  },
  {
   "cell_type": "markdown",
   "id": "4a1ef9be-7286-41cf-a68c-b869f79b6b8e",
   "metadata": {},
   "source": [
    "## Athletes who won medals in multiple sports"
   ]
  },
  {
   "cell_type": "code",
   "execution_count": 43,
   "id": "7b899d35-902a-4ac1-bb18-37a5c906f82c",
   "metadata": {},
   "outputs": [
    {
     "name": "stdout",
     "output_type": "stream",
     "text": [
      "Athlete\n",
      "Chen Jing           2\n",
      "Fabiana             2\n",
      "Iván García         2\n",
      "Jang Seong-Ho       2\n",
      "Juliana             2\n",
      "Kim Nam-Sun         2\n",
      "Laura López         2\n",
      "Li Na               2\n",
      "Li Ting             2\n",
      "Matt Ryan           2\n",
      "Matt Wells          2\n",
      "Nataliya Ivanova    2\n",
      "Rebecca Romero      2\n",
      "Richard Thompson    2\n",
      "Ryan Bailey         2\n",
      "Wang Hao            2\n",
      "Yang Wei            2\n",
      "Zhang Nan           2\n",
      "Name: Sport, dtype: int64\n"
     ]
    }
   ],
   "source": [
    "multi_sport = df.groupby('Athlete')['Sport'].nunique()\n",
    "print(multi_sport[multi_sport > 1])\n"
   ]
  },
  {
   "cell_type": "markdown",
   "id": "d4cda5e8-adbd-4a8f-a0ba-41c15f9a5438",
   "metadata": {},
   "source": [
    "## Gold medal counts by country and year"
   ]
  },
  {
   "cell_type": "code",
   "execution_count": 44,
   "id": "1e9d482e-6189-4fd4-9856-20ee9ca062f5",
   "metadata": {},
   "outputs": [
    {
     "name": "stdout",
     "output_type": "stream",
     "text": [
      "Year         2000  2002  2004  2006  2008  2010  2012\n",
      "Country                                              \n",
      "Afghanistan     0     0     0     0     0     0     0\n",
      "Algeria         1     0     0     0     0     0     1\n",
      "Argentina       0     0    28     0    20     0     1\n",
      "Armenia         0     0     0     0     0     0     0\n",
      "Australia      60     2    49     1    31     2    18\n",
      "...           ...   ...   ...   ...   ...   ...   ...\n",
      "Uruguay         0     0     0     0     0     0     0\n",
      "Uzbekistan      1     0     2     0     1     0     1\n",
      "Venezuela       0     0     0     0     0     0     1\n",
      "Vietnam         0     0     0     0     0     0     0\n",
      "Zimbabwe        0     0     1     0     1     0     0\n",
      "\n",
      "[110 rows x 7 columns]\n"
     ]
    }
   ],
   "source": [
    "gold_pivot = df.pivot_table(index='Country', columns='Year', values='Gold', aggfunc='sum', fill_value=0)\n",
    "print(gold_pivot)\n"
   ]
  },
  {
   "cell_type": "code",
   "execution_count": null,
   "id": "46b13ad5-76e7-4756-a112-deb5c186f885",
   "metadata": {},
   "outputs": [],
   "source": []
  }
 ],
 "metadata": {
  "kernelspec": {
   "display_name": "Python 3 (ipykernel)",
   "language": "python",
   "name": "python3"
  },
  "language_info": {
   "codemirror_mode": {
    "name": "ipython",
    "version": 3
   },
   "file_extension": ".py",
   "mimetype": "text/x-python",
   "name": "python",
   "nbconvert_exporter": "python",
   "pygments_lexer": "ipython3",
   "version": "3.13.5"
  }
 },
 "nbformat": 4,
 "nbformat_minor": 5
}
