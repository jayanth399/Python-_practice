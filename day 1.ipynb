{
 "cells": [
  {
   "cell_type": "code",
   "execution_count": 3,
   "id": "83dc2ee8-a250-467c-b790-f9a25968000a",
   "metadata": {},
   "outputs": [
    {
     "name": "stdin",
     "output_type": "stream",
     "text": [
      " 2\n"
     ]
    },
    {
     "name": "stdout",
     "output_type": "stream",
     "text": [
      "0\n"
     ]
    }
   ],
   "source": [
    "n=input()\n",
    "count=0\n",
    "for i in n:\n",
    "    if i in \"AEIOUaeiou\":\n",
    "        count+=1\n",
    "print(count)"
   ]
  },
  {
   "cell_type": "code",
   "execution_count": 14,
   "id": "a5ec84c2-e5e2-44e8-bd06-23a8c2ee715b",
   "metadata": {},
   "outputs": [
    {
     "name": "stdin",
     "output_type": "stream",
     "text": [
      " india\n"
     ]
    },
    {
     "name": "stdout",
     "output_type": "stream",
     "text": [
      "3\n",
      "2\n"
     ]
    }
   ],
   "source": [
    "n=input()\n",
    "count=0\n",
    "cl=0\n",
    "for i in n:\n",
    "    if i not in \"AEIOUaeiou\":\n",
    "        count+=1\n",
    "    else:\n",
    "        cl+=1\n",
    "print(cl)\n",
    "print(count)"
   ]
  },
  {
   "cell_type": "code",
   "execution_count": 26,
   "id": "0d9e8c50-88a1-4d94-95e7-2cc1677c6b10",
   "metadata": {},
   "outputs": [
    {
     "name": "stdout",
     "output_type": "stream",
     "text": [
      "[6.0, 37, 51, 14.0, 9.0, 7.0]\n"
     ]
    }
   ],
   "source": [
    "n = [30, 42, 56, 70, 45, 35]\n",
    "a= []\n",
    "for i in n:\n",
    "    if i % 5 == 0:\n",
    "        a.append(i / 5)\n",
    "    else:\n",
    "        a.append(i-5)\n",
    "print(a)"
   ]
  },
  {
   "cell_type": "code",
   "execution_count": 39,
   "id": "1721f218-97b8-4d2c-8f93-05cb5604c25e",
   "metadata": {},
   "outputs": [
    {
     "name": "stdout",
     "output_type": "stream",
     "text": [
      "[23, 45, 99, 20]\n",
      "[24, 67, 54]\n"
     ]
    }
   ],
   "source": [
    "n = [23, 24, 45, 67, 99, 54, 20]\n",
    "e = []  \n",
    "o = []  \n",
    "for i in range(len(n)):\n",
    "    if i % 2 == 0:\n",
    "        e.append(n[i])\n",
    "    else:\n",
    "        o.append(n[i])\n",
    "print(e)\n",
    "print(o)\n",
    "    "
   ]
  },
  {
   "cell_type": "code",
   "execution_count": 41,
   "id": "061f16ae-a294-4bdb-a676-8f53219be461",
   "metadata": {},
   "outputs": [
    {
     "name": "stdout",
     "output_type": "stream",
     "text": [
      "20\n",
      "35\n",
      "20\n",
      "80\n",
      "110\n",
      "155\n",
      "110\n",
      "240\n",
      "110\n",
      "285\n",
      "110\n",
      "310\n"
     ]
    }
   ],
   "source": [
    "n=[20,35,45,30,60,75,85,45,25,40]\n",
    "x=0\n",
    "p=0\n",
    "for i in n:\n",
    "    if i%2==0:\n",
    "        x+=i\n",
    "    else:\n",
    "        p+=i\n",
    "        print(x)\n",
    "        print(p)"
   ]
  },
  {
   "cell_type": "code",
   "execution_count": 42,
   "id": "7291dda4-7209-4b2f-a03d-6a5e884350d9",
   "metadata": {},
   "outputs": [
    {
     "name": "stdout",
     "output_type": "stream",
     "text": [
      "16\n",
      "29\n"
     ]
    }
   ],
   "source": [
    "n=[20,35,45,30,60,75,85,45,25,40]\n",
    "o=0\n",
    "e=0\n",
    "for i in range(len(n)):\n",
    "    if n[i] % 2 == 0:\n",
    "        e+=i\n",
    "    else:\n",
    "        o+=i\n",
    "print(e)\n",
    "print(o)"
   ]
  },
  {
   "cell_type": "code",
   "execution_count": 2,
   "id": "0bd7ccb8-2046-4882-9640-b561af8286c1",
   "metadata": {},
   "outputs": [
    {
     "name": "stdout",
     "output_type": "stream",
     "text": [
      "['delhi', 'Dubai', 'Dadar', 'Danish', 'daridam']\n"
     ]
    }
   ],
   "source": [
    "n = ['Mumbai', 'Hyd', 'delhi', 'Dubai', 'Jaipur', 'Kolkata', 'Chennai', 'Dadar', 'Danish', 'japan', 'madhya', 'hero', 'daridam']\n",
    "d = []\n",
    "for chr in n:\n",
    "    if chr.startswith('D') or chr.startswith('d'):\n",
    "        d.append(chr)\n",
    "print(d)"
   ]
  },
  {
   "cell_type": "code",
   "execution_count": 1,
   "id": "5a133c98-bb8d-4580-bc5e-2572f6a1466b",
   "metadata": {},
   "outputs": [
    {
     "name": "stdout",
     "output_type": "stream",
     "text": [
      "{'Mumbai': 50, 'Hyd': 40, 'delhi': 30, 'Dubai': 20, 'Jaipur': 100, 'Kolkata': 350, 'Chennai': 280, 'Dadar': 200}\n"
     ]
    }
   ],
   "source": [
    "n = ['Mumbai', 'Hyd', 'delhi', 'Dubai', 'Jaipur', 'Kolkata', 'Chennai', 'Dadar', 'Danish', 'japan', 'madhya', 'hero', 'daridam']\n",
    "i = [50, 40, 30, 20, 100, 350, 280, 200]\n",
    "d = {}\n",
    "for a in range(len(i)):\n",
    "    d[n[a]] = i[a]\n",
    "\n",
    "print(d)"
   ]
  },
  {
   "cell_type": "code",
   "execution_count": 4,
   "id": "f0dc2e90-0751-4941-ae59-f294595592c7",
   "metadata": {},
   "outputs": [
    {
     "name": "stdout",
     "output_type": "stream",
     "text": [
      "Mumbai\n",
      "Hyd\n",
      "delhi\n",
      "Dubai\n"
     ]
    }
   ],
   "source": [
    "d = {'Mumbai': 50, 'Hyd': 40, 'delhi': 30, 'Dubai': 20, 'Jaipur': 100, 'Kolkata': 350, 'Chennai': 280, 'Dadar': 200}\n",
    "for c, v in d.items():\n",
    "    if v < 100:\n",
    "        print(c)"
   ]
  },
  {
   "cell_type": "code",
   "execution_count": 5,
   "id": "e507f0a4-1a8a-4244-bd85-49b57dd72229",
   "metadata": {},
   "outputs": [
    {
     "name": "stdin",
     "output_type": "stream",
     "text": [
      " 2\n"
     ]
    },
    {
     "name": "stdout",
     "output_type": "stream",
     "text": [
      "12.571428571428571\n"
     ]
    }
   ],
   "source": [
    "def area(r):\n",
    "    pi = 22 / 7\n",
    "    return pi * (r ** 2)\n",
    "x = int(input())\n",
    "a = area(x)\n",
    "print(a)"
   ]
  },
  {
   "cell_type": "code",
   "execution_count": 6,
   "id": "d15a285c-ee12-413d-b5e7-b0eabe0ec310",
   "metadata": {},
   "outputs": [
    {
     "name": "stdin",
     "output_type": "stream",
     "text": [
      " hydrabad\n"
     ]
    },
    {
     "name": "stdout",
     "output_type": "stream",
     "text": [
      "2\n"
     ]
    }
   ],
   "source": [
    "def count(n):\n",
    "    count = 0\n",
    "    for chr in n:\n",
    "        if chr in \"aeiouAEIOU\":\n",
    "            count += 1\n",
    "    return count\n",
    "n = input()\n",
    "print(count(n))"
   ]
  },
  {
   "cell_type": "code",
   "execution_count": 7,
   "id": "b85e220c-e27e-4006-a70d-3c9470c77359",
   "metadata": {},
   "outputs": [
    {
     "name": "stdout",
     "output_type": "stream",
     "text": [
      "[23, 45, 99, 20]\n",
      "[24, 67, 54]\n"
     ]
    }
   ],
   "source": [
    "def split(lst):\n",
    "    even = []\n",
    "    odd = []\n",
    "    for i in range(len(lst)):\n",
    "        if i % 2 == 0:\n",
    "            even.append(lst[i])\n",
    "        else:\n",
    "            odd.append(lst[i])\n",
    "    return even, odd\n",
    "\n",
    "n = [23, 24, 45, 67, 99, 54, 20]\n",
    "e, o = split(n)\n",
    "print(e)\n",
    "print(o)"
   ]
  },
  {
   "cell_type": "code",
   "execution_count": 8,
   "id": "17f183d5-36e9-46e4-b071-f93a001fcbce",
   "metadata": {},
   "outputs": [
    {
     "name": "stdout",
     "output_type": "stream",
     "text": [
      "[6.0, 42, 56, 14.0, 9.0, 7.0]\n"
     ]
    }
   ],
   "source": [
    "def list(n):\n",
    "    a = []\n",
    "    for i in n:\n",
    "        if i % 5 == 0:\n",
    "            a.append(i / 5)\n",
    "        else:\n",
    "            a.append(i)\n",
    "    return a\n",
    "n = [30, 42, 56, 70, 45, 35]\n",
    "r = list(n)\n",
    "print(r)"
   ]
  },
  {
   "cell_type": "code",
   "execution_count": 13,
   "id": "23767d89-074e-497d-acd9-b01676ff13f1",
   "metadata": {},
   "outputs": [
    {
     "name": "stdin",
     "output_type": "stream",
     "text": [
      " irshad\"\n"
     ]
    },
    {
     "name": "stdout",
     "output_type": "stream",
     "text": [
      "Consonants: 5\n",
      "Vowels: 2\n"
     ]
    }
   ],
   "source": [
    "def count(text):\n",
    "    v = \"aieouAIEOU\"\n",
    "    consonant = 0\n",
    "    vowel = 0\n",
    "    for char in text:\n",
    "        if char in v:\n",
    "            consonant += 1\n",
    "        else:\n",
    "            vowel += 1\n",
    "    return vowel, consonant\n",
    "x = input()\n",
    "c, e = count(x)\n",
    "print(\"Consonants:\", c)\n",
    "print(\"Vowels:\", e)"
   ]
  },
  {
   "cell_type": "code",
   "execution_count": 12,
   "id": "2dccf29a-6670-455f-8982-aa542f42a77f",
   "metadata": {},
   "outputs": [
    {
     "data": {
      "text/plain": [
       "(4, 2)"
      ]
     },
     "execution_count": 12,
     "metadata": {},
     "output_type": "execute_result"
    }
   ],
   "source": []
  },
  {
   "cell_type": "code",
   "execution_count": null,
   "id": "8852c4aa-a512-4381-8bb1-721c06cd123c",
   "metadata": {},
   "outputs": [],
   "source": []
  }
 ],
 "metadata": {
  "kernelspec": {
   "display_name": "Python 3 (ipykernel)",
   "language": "python",
   "name": "python3"
  },
  "language_info": {
   "codemirror_mode": {
    "name": "ipython",
    "version": 3
   },
   "file_extension": ".py",
   "mimetype": "text/x-python",
   "name": "python",
   "nbconvert_exporter": "python",
   "pygments_lexer": "ipython3",
   "version": "3.13.5"
  }
 },
 "nbformat": 4,
 "nbformat_minor": 5
}
